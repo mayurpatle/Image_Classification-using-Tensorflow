{
  "nbformat": 4,
  "nbformat_minor": 0,
  "metadata": {
    "colab": {
      "provenance": []
    },
    "kernelspec": {
      "name": "python3",
      "display_name": "Python 3"
    },
    "language_info": {
      "name": "python"
    }
  },
  "cells": [
    {
      "cell_type": "code",
      "execution_count": 14,
      "metadata": {
        "colab": {
          "base_uri": "https://localhost:8080/"
        },
        "id": "OWsYn3I__VNU",
        "outputId": "e3827002-11f4-4700-df88-9e6bd2ab52fe"
      },
      "outputs": [
        {
          "output_type": "stream",
          "name": "stdout",
          "text": [
            "Epoch 1/10\n",
            "1875/1875 [==============================] - 9s 4ms/step - loss: 0.2941 - accuracy: 0.9137 - val_loss: 0.1424 - val_accuracy: 0.9575\n",
            "Epoch 2/10\n",
            "1875/1875 [==============================] - 9s 5ms/step - loss: 0.1436 - accuracy: 0.9577 - val_loss: 0.0964 - val_accuracy: 0.9705\n",
            "Epoch 3/10\n",
            "1875/1875 [==============================] - 10s 5ms/step - loss: 0.1090 - accuracy: 0.9667 - val_loss: 0.0855 - val_accuracy: 0.9737\n",
            "Epoch 4/10\n",
            "1875/1875 [==============================] - 8s 4ms/step - loss: 0.0881 - accuracy: 0.9722 - val_loss: 0.0809 - val_accuracy: 0.9755\n",
            "Epoch 5/10\n",
            "1875/1875 [==============================] - 10s 5ms/step - loss: 0.0760 - accuracy: 0.9765 - val_loss: 0.0731 - val_accuracy: 0.9767\n",
            "Epoch 6/10\n",
            "1875/1875 [==============================] - 10s 5ms/step - loss: 0.0666 - accuracy: 0.9788 - val_loss: 0.0701 - val_accuracy: 0.9791\n",
            "Epoch 7/10\n",
            "1875/1875 [==============================] - 8s 4ms/step - loss: 0.0606 - accuracy: 0.9805 - val_loss: 0.0679 - val_accuracy: 0.9792\n",
            "Epoch 8/10\n",
            "1875/1875 [==============================] - 9s 5ms/step - loss: 0.0536 - accuracy: 0.9829 - val_loss: 0.0701 - val_accuracy: 0.9801\n",
            "Epoch 9/10\n",
            "1875/1875 [==============================] - 9s 5ms/step - loss: 0.0489 - accuracy: 0.9836 - val_loss: 0.0703 - val_accuracy: 0.9799\n",
            "Epoch 10/10\n",
            "1875/1875 [==============================] - 10s 5ms/step - loss: 0.0443 - accuracy: 0.9851 - val_loss: 0.0700 - val_accuracy: 0.9796\n",
            "313/313 [==============================] - 1s 2ms/step - loss: 0.0700 - accuracy: 0.9796\n",
            "Drive already mounted at /content/drive; to attempt to forcibly remount, call drive.mount(\"/content/drive\", force_remount=True).\n",
            "1/1 [==============================] - 0s 65ms/step\n",
            "3\n"
          ]
        }
      ],
      "source": [
        "import tensorflow as tf\n",
        "from tensorflow.keras.datasets import mnist\n",
        "\n",
        "# Load the MNIST dataset\n",
        "(x_train, y_train), (x_test, y_test) = mnist.load_data()\n",
        "\n",
        "# Preprocess the data\n",
        "x_train = x_train / 255.0\n",
        "x_test = x_test / 255.0\n",
        "\n",
        "# Define the model architecture\n",
        "model = tf.keras.models.Sequential([\n",
        "  tf.keras.layers.Flatten(input_shape=(28, 28)),\n",
        "  tf.keras.layers.Dense(128, activation='relu'),\n",
        "  tf.keras.layers.Dropout(0.2),\n",
        "  tf.keras.layers.Dense(10)\n",
        "])\n",
        "\n",
        "# Compile the model\n",
        "loss_fn = tf.keras.losses.SparseCategoricalCrossentropy(from_logits=True)\n",
        "model.compile(optimizer='adam', loss=loss_fn, metrics=['accuracy'])\n",
        "\n",
        "# Train the model\n",
        "model.fit(x_train, y_train, epochs=10, validation_data=(x_test, y_test))\n",
        "\n",
        "# Evaluate the model\n",
        "model.evaluate(x_test, y_test)\n",
        "\n",
        "# Test the model on sample images\n",
        "import numpy as np\n",
        "from PIL import Image\n",
        "import  os \n",
        "\n",
        "from google.colab import drive\n",
        "drive.mount('/content/drive')\n",
        "\n",
        "# Load a sample image and preprocess it\n",
        "img = Image.open(\"/content/drive/MyDrive/Colab Notebooks/img_10.jpg\").convert(\"L\")\n",
        "img = np.asarray(img.resize((28, 28)))\n",
        "img = img / 255.0\n",
        "\n",
        "# Make predictions using the model\n",
        "pred = model.predict(np.array([img]))\n",
        "class_idx = np.argmax(pred)\n",
        "\n",
        "print(class_idx) \n",
        "\n"
      ]
    }
  ]
}